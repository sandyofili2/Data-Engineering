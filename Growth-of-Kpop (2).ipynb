{
 "cells": [
  {
   "cell_type": "markdown",
   "id": "124d3395",
   "metadata": {},
   "source": [
    "<h1 style='text-align:center'> Growth of Kpop in Korea Based on Melon Monthly Chart </h1>\n",
    "\n",
    "<img src='melon.png'>"
   ]
  },
  {
   "cell_type": "markdown",
   "id": "f53d962f",
   "metadata": {},
   "source": [
    "<p> Melon is the biggest streaming platform in korea and they release a daily,weekly and monthly chart to show what songs people are listening to the most on the platform. Kpop as taking the world by storm and has now become a major music genre around the world but it wasn't always such a big genre. Prior to 2017 Kpop was the 3rd and sometimes 4th most consumed genre in South Korea but now it's fighting for the number 1 position when it comes to consumption. Kpop is now a $10 billion industry and the marketshare has been increasing globally.</p>\n",
    "</n>\n",
    "<p> This analysis will focus on looking at the top 200 songs in korea each month over the past 13 years and seeing which artists have led the new wave of global domination through kpop</p>\n",
    "</n>\n",
    "<h3 style='text-align:center'> Questions That Will Be Asked</h3>\n",
    "</n>\n",
    "\n",
    "1. Which artists had the most songs on the Melon 200 chart from 2010 till 2013?\n",
    "2. Which artist has the most number 1 songs on Melon chart?\n",
    "3. Which Korean song spent the longest time at the number 1 position?\n",
    "4. Which song charted the longest in the Melon 200?\n",
    "5. Which artists are the new leaders of kpop in South Korea?\n",
    "\n"
   ]
  },
  {
   "cell_type": "code",
   "execution_count": 1,
   "id": "24eee758",
   "metadata": {},
   "outputs": [],
   "source": [
    "import pandas as pd\n",
    "import numpy as np\n",
    "import seaborn as sb\n",
    "import matplotlib\n",
    "import matplotlib.pyplot as plt\n",
    "import matplotlib.font_manager as fm\n",
    "import os\n",
    "f = [f.name for f in fm.fontManager.ttflist]\n",
    "plt.rc('font', family='Apple SD Gothic Neo')\n",
    "%matplotlib inline"
   ]
  },
  {
   "cell_type": "code",
   "execution_count": 2,
   "id": "d03e0d71",
   "metadata": {},
   "outputs": [
    {
     "data": {
      "text/plain": [
       "'/Users/sandraofili'"
      ]
     },
     "execution_count": 2,
     "metadata": {},
     "output_type": "execute_result"
    }
   ],
   "source": [
    "os.getcwd()"
   ]
  },
  {
   "cell_type": "code",
   "execution_count": 3,
   "id": "a5454fd0",
   "metadata": {},
   "outputs": [],
   "source": [
    "with open('kpop_rankings.csv') as file:\n",
    "    kpop_df = pd.read_csv(file)"
   ]
  },
  {
   "cell_type": "code",
   "execution_count": 4,
   "id": "cf37b931",
   "metadata": {},
   "outputs": [],
   "source": [
    "kpop_raw_df = kpop_df.copy()"
   ]
  },
  {
   "cell_type": "code",
   "execution_count": 5,
   "id": "73a58629",
   "metadata": {},
   "outputs": [
    {
     "data": {
      "text/html": [
       "<div>\n",
       "<style scoped>\n",
       "    .dataframe tbody tr th:only-of-type {\n",
       "        vertical-align: middle;\n",
       "    }\n",
       "\n",
       "    .dataframe tbody tr th {\n",
       "        vertical-align: top;\n",
       "    }\n",
       "\n",
       "    .dataframe thead th {\n",
       "        text-align: right;\n",
       "    }\n",
       "</style>\n",
       "<table border=\"1\" class=\"dataframe\">\n",
       "  <thead>\n",
       "    <tr style=\"text-align: right;\">\n",
       "      <th></th>\n",
       "      <th>year</th>\n",
       "      <th>time</th>\n",
       "      <th>rank</th>\n",
       "      <th>song_title</th>\n",
       "      <th>artist</th>\n",
       "      <th>album</th>\n",
       "    </tr>\n",
       "  </thead>\n",
       "  <tbody>\n",
       "    <tr>\n",
       "      <th>0</th>\n",
       "      <td>2010</td>\n",
       "      <td>1</td>\n",
       "      <td>1</td>\n",
       "      <td>우리 사랑하게 됐어요.</td>\n",
       "      <td>가인, 조권</td>\n",
       "      <td>우리 사랑하게 됐어요</td>\n",
       "    </tr>\n",
       "    <tr>\n",
       "      <th>1</th>\n",
       "      <td>2010</td>\n",
       "      <td>1</td>\n",
       "      <td>2</td>\n",
       "      <td>처음처럼 그때처럼 (Feat. 강민경)</td>\n",
       "      <td>이승기</td>\n",
       "      <td>Shadow (Repackage)</td>\n",
       "    </tr>\n",
       "    <tr>\n",
       "      <th>2</th>\n",
       "      <td>2010</td>\n",
       "      <td>1</td>\n",
       "      <td>3</td>\n",
       "      <td>그대라서</td>\n",
       "      <td>거미</td>\n",
       "      <td>크리스마스에 눈이 올까요? OST</td>\n",
       "    </tr>\n",
       "    <tr>\n",
       "      <th>3</th>\n",
       "      <td>2010</td>\n",
       "      <td>1</td>\n",
       "      <td>4</td>\n",
       "      <td>Bo Peep Bo Peep</td>\n",
       "      <td>티아라 (T-ara)</td>\n",
       "      <td>Absolute First Album</td>\n",
       "    </tr>\n",
       "    <tr>\n",
       "      <th>4</th>\n",
       "      <td>2010</td>\n",
       "      <td>1</td>\n",
       "      <td>5</td>\n",
       "      <td>술 한잔 해요</td>\n",
       "      <td>지아 (Zia)</td>\n",
       "      <td>Atelier</td>\n",
       "    </tr>\n",
       "    <tr>\n",
       "      <th>...</th>\n",
       "      <td>...</td>\n",
       "      <td>...</td>\n",
       "      <td>...</td>\n",
       "      <td>...</td>\n",
       "      <td>...</td>\n",
       "      <td>...</td>\n",
       "    </tr>\n",
       "    <tr>\n",
       "      <th>66695</th>\n",
       "      <td>2023</td>\n",
       "      <td>44</td>\n",
       "      <td>196</td>\n",
       "      <td>BETELGEUSE</td>\n",
       "      <td>Yuuri</td>\n",
       "      <td>BETELGEUSE</td>\n",
       "    </tr>\n",
       "    <tr>\n",
       "      <th>66696</th>\n",
       "      <td>2023</td>\n",
       "      <td>44</td>\n",
       "      <td>197</td>\n",
       "      <td>Vancouver</td>\n",
       "      <td>BIG Naughty (서동현)</td>\n",
       "      <td>Lovey Dovey</td>\n",
       "    </tr>\n",
       "    <tr>\n",
       "      <th>66697</th>\n",
       "      <td>2023</td>\n",
       "      <td>44</td>\n",
       "      <td>198</td>\n",
       "      <td>Bye bye my blue</td>\n",
       "      <td>백예린</td>\n",
       "      <td>Bye bye my blue</td>\n",
       "    </tr>\n",
       "    <tr>\n",
       "      <th>66698</th>\n",
       "      <td>2023</td>\n",
       "      <td>44</td>\n",
       "      <td>199</td>\n",
       "      <td>사랑이라 믿었던 것들은 (Feat. 이수현)</td>\n",
       "      <td>BIG Naughty (서동현)</td>\n",
       "      <td>호프리스 로맨틱</td>\n",
       "    </tr>\n",
       "    <tr>\n",
       "      <th>66699</th>\n",
       "      <td>2023</td>\n",
       "      <td>44</td>\n",
       "      <td>200</td>\n",
       "      <td>그때 그 순간 그대로 (그그그)</td>\n",
       "      <td>WSG워너비 (가야G)</td>\n",
       "      <td>WSG워너비 1집</td>\n",
       "    </tr>\n",
       "  </tbody>\n",
       "</table>\n",
       "<p>66700 rows × 6 columns</p>\n",
       "</div>"
      ],
      "text/plain": [
       "       year  time  rank                song_title             artist  \\\n",
       "0      2010     1     1              우리 사랑하게 됐어요.             가인, 조권   \n",
       "1      2010     1     2     처음처럼 그때처럼 (Feat. 강민경)                이승기   \n",
       "2      2010     1     3                      그대라서                 거미   \n",
       "3      2010     1     4           Bo Peep Bo Peep        티아라 (T-ara)   \n",
       "4      2010     1     5                   술 한잔 해요           지아 (Zia)   \n",
       "...     ...   ...   ...                       ...                ...   \n",
       "66695  2023    44   196                BETELGEUSE              Yuuri   \n",
       "66696  2023    44   197                 Vancouver  BIG Naughty (서동현)   \n",
       "66697  2023    44   198           Bye bye my blue                백예린   \n",
       "66698  2023    44   199  사랑이라 믿었던 것들은 (Feat. 이수현)  BIG Naughty (서동현)   \n",
       "66699  2023    44   200         그때 그 순간 그대로 (그그그)       WSG워너비 (가야G)   \n",
       "\n",
       "                      album  \n",
       "0               우리 사랑하게 됐어요  \n",
       "1        Shadow (Repackage)  \n",
       "2        크리스마스에 눈이 올까요? OST  \n",
       "3      Absolute First Album  \n",
       "4                   Atelier  \n",
       "...                     ...  \n",
       "66695            BETELGEUSE  \n",
       "66696           Lovey Dovey  \n",
       "66697       Bye bye my blue  \n",
       "66698              호프리스 로맨틱  \n",
       "66699             WSG워너비 1집  \n",
       "\n",
       "[66700 rows x 6 columns]"
      ]
     },
     "execution_count": 5,
     "metadata": {},
     "output_type": "execute_result"
    }
   ],
   "source": [
    "kpop_raw_df"
   ]
  },
  {
   "cell_type": "markdown",
   "id": "ca305a19",
   "metadata": {},
   "source": [
    "<h3 style='text-align:center'> Data Preparation and Cleaning</h3>\n",
    "\n",
    "<p>Now I am going to focus on cleaning the data by removing rows with empty values or incorrect values, making sure each column has only 1 data type and removing all irrelevant data</p>"
   ]
  },
  {
   "cell_type": "code",
   "execution_count": 6,
   "id": "f64db2e8",
   "metadata": {},
   "outputs": [
    {
     "data": {
      "text/plain": [
       "array([2010, 2011, 2012, 2013, 2014, 2015, 2016, 2017, 2018, 2019, 2020,\n",
       "       2021, 2022, 2023])"
      ]
     },
     "execution_count": 6,
     "metadata": {},
     "output_type": "execute_result"
    }
   ],
   "source": [
    "kpop_raw_df.year.unique() #The year column has no out of place values and has exactly 13 unique values"
   ]
  },
  {
   "cell_type": "code",
   "execution_count": 7,
   "id": "efdf0322",
   "metadata": {},
   "outputs": [
    {
     "data": {
      "text/plain": [
       "array([ 1,  2,  3,  4,  5,  6,  7,  8,  9, 10, 11, 12, 13, 14, 15, 16, 17,\n",
       "       18, 19, 20, 21, 22, 23, 24, 25, 26, 27, 28, 29, 30, 31, 32, 33, 34,\n",
       "       35, 36, 37, 38, 39, 40, 41, 42, 43, 44, 45, 46, 47, 48, 49, 50, 51,\n",
       "       52, 53])"
      ]
     },
     "execution_count": 7,
     "metadata": {},
     "output_type": "execute_result"
    }
   ],
   "source": [
    "kpop_raw_df.time.unique()"
   ]
  },
  {
   "cell_type": "markdown",
   "id": "4f8378c5",
   "metadata": {},
   "source": [
    "<p> A year has 52 weeks but some values have 53 weeks which can cause the data to be incorrect. Melon releases their monthly chart on the 1st day of each month and based on the day the 1st falls on some years can have 53 while others have 52 weeks. For the most accuracy I remove data for all rows of data submited for the 53rd week </p>"
   ]
  },
  {
   "cell_type": "code",
   "execution_count": 8,
   "id": "6527eab7",
   "metadata": {},
   "outputs": [],
   "source": [
    "kpop_raw_df = kpop_raw_df.drop(kpop_raw_df[kpop_raw_df.time == 53].index)"
   ]
  },
  {
   "cell_type": "code",
   "execution_count": 9,
   "id": "c44588ba",
   "metadata": {},
   "outputs": [
    {
     "data": {
      "text/html": [
       "<div>\n",
       "<style scoped>\n",
       "    .dataframe tbody tr th:only-of-type {\n",
       "        vertical-align: middle;\n",
       "    }\n",
       "\n",
       "    .dataframe tbody tr th {\n",
       "        vertical-align: top;\n",
       "    }\n",
       "\n",
       "    .dataframe thead th {\n",
       "        text-align: right;\n",
       "    }\n",
       "</style>\n",
       "<table border=\"1\" class=\"dataframe\">\n",
       "  <thead>\n",
       "    <tr style=\"text-align: right;\">\n",
       "      <th></th>\n",
       "      <th>year</th>\n",
       "      <th>time</th>\n",
       "      <th>rank</th>\n",
       "    </tr>\n",
       "  </thead>\n",
       "  <tbody>\n",
       "    <tr>\n",
       "      <th>count</th>\n",
       "      <td>66600.000000</td>\n",
       "      <td>66600.000000</td>\n",
       "      <td>66600.000000</td>\n",
       "    </tr>\n",
       "    <tr>\n",
       "      <th>mean</th>\n",
       "      <td>2018.406907</td>\n",
       "      <td>25.741742</td>\n",
       "      <td>80.680180</td>\n",
       "    </tr>\n",
       "    <tr>\n",
       "      <th>std</th>\n",
       "      <td>4.207263</td>\n",
       "      <td>14.905196</td>\n",
       "      <td>54.226091</td>\n",
       "    </tr>\n",
       "    <tr>\n",
       "      <th>min</th>\n",
       "      <td>2010.000000</td>\n",
       "      <td>1.000000</td>\n",
       "      <td>1.000000</td>\n",
       "    </tr>\n",
       "    <tr>\n",
       "      <th>25%</th>\n",
       "      <td>2016.000000</td>\n",
       "      <td>13.000000</td>\n",
       "      <td>36.000000</td>\n",
       "    </tr>\n",
       "    <tr>\n",
       "      <th>50%</th>\n",
       "      <td>2020.000000</td>\n",
       "      <td>26.000000</td>\n",
       "      <td>72.000000</td>\n",
       "    </tr>\n",
       "    <tr>\n",
       "      <th>75%</th>\n",
       "      <td>2022.000000</td>\n",
       "      <td>38.000000</td>\n",
       "      <td>118.000000</td>\n",
       "    </tr>\n",
       "    <tr>\n",
       "      <th>max</th>\n",
       "      <td>2023.000000</td>\n",
       "      <td>52.000000</td>\n",
       "      <td>200.000000</td>\n",
       "    </tr>\n",
       "  </tbody>\n",
       "</table>\n",
       "</div>"
      ],
      "text/plain": [
       "               year          time          rank\n",
       "count  66600.000000  66600.000000  66600.000000\n",
       "mean    2018.406907     25.741742     80.680180\n",
       "std        4.207263     14.905196     54.226091\n",
       "min     2010.000000      1.000000      1.000000\n",
       "25%     2016.000000     13.000000     36.000000\n",
       "50%     2020.000000     26.000000     72.000000\n",
       "75%     2022.000000     38.000000    118.000000\n",
       "max     2023.000000     52.000000    200.000000"
      ]
     },
     "execution_count": 9,
     "metadata": {},
     "output_type": "execute_result"
    }
   ],
   "source": [
    "kpop_raw_df.describe() # now the max value for time is 52 and no longer 53"
   ]
  },
  {
   "cell_type": "code",
   "execution_count": 10,
   "id": "dc7b43f7",
   "metadata": {},
   "outputs": [
    {
     "data": {
      "text/plain": [
       "year          0\n",
       "time          0\n",
       "rank          0\n",
       "song_title    0\n",
       "artist        0\n",
       "album         0\n",
       "dtype: int64"
      ]
     },
     "execution_count": 10,
     "metadata": {},
     "output_type": "execute_result"
    }
   ],
   "source": [
    "kpop_raw_df.isna().sum() #checking for any values with nan or empty space"
   ]
  },
  {
   "cell_type": "markdown",
   "id": "68d4506e",
   "metadata": {},
   "source": [
    "In the 'artist' column there are some places where the artist appears more than once due to featuring. I will remove these values and replace them with nan because I only want information on songs the artist was the main and not a featured artist."
   ]
  },
  {
   "cell_type": "code",
   "execution_count": 11,
   "id": "4f7ada3f",
   "metadata": {},
   "outputs": [],
   "source": [
    "kpop_raw_df.where(~(kpop_raw_df.artist.str.contains(';', na=False)), np.nan, inplace=True)"
   ]
  },
  {
   "cell_type": "code",
   "execution_count": 12,
   "id": "404f7500",
   "metadata": {},
   "outputs": [
    {
     "data": {
      "text/html": [
       "<div>\n",
       "<style scoped>\n",
       "    .dataframe tbody tr th:only-of-type {\n",
       "        vertical-align: middle;\n",
       "    }\n",
       "\n",
       "    .dataframe tbody tr th {\n",
       "        vertical-align: top;\n",
       "    }\n",
       "\n",
       "    .dataframe thead th {\n",
       "        text-align: right;\n",
       "    }\n",
       "</style>\n",
       "<table border=\"1\" class=\"dataframe\">\n",
       "  <thead>\n",
       "    <tr style=\"text-align: right;\">\n",
       "      <th></th>\n",
       "      <th>year</th>\n",
       "      <th>time</th>\n",
       "      <th>rank</th>\n",
       "      <th>song_title</th>\n",
       "      <th>artist</th>\n",
       "      <th>album</th>\n",
       "    </tr>\n",
       "  </thead>\n",
       "  <tbody>\n",
       "    <tr>\n",
       "      <th>0</th>\n",
       "      <td>2010</td>\n",
       "      <td>1</td>\n",
       "      <td>1</td>\n",
       "      <td>우리 사랑하게 됐어요.</td>\n",
       "      <td>가인, 조권</td>\n",
       "      <td>우리 사랑하게 됐어요</td>\n",
       "    </tr>\n",
       "    <tr>\n",
       "      <th>1</th>\n",
       "      <td>2010</td>\n",
       "      <td>1</td>\n",
       "      <td>2</td>\n",
       "      <td>처음처럼 그때처럼 (Feat. 강민경)</td>\n",
       "      <td>이승기</td>\n",
       "      <td>Shadow (Repackage)</td>\n",
       "    </tr>\n",
       "    <tr>\n",
       "      <th>2</th>\n",
       "      <td>2010</td>\n",
       "      <td>1</td>\n",
       "      <td>3</td>\n",
       "      <td>그대라서</td>\n",
       "      <td>거미</td>\n",
       "      <td>크리스마스에 눈이 올까요? OST</td>\n",
       "    </tr>\n",
       "    <tr>\n",
       "      <th>3</th>\n",
       "      <td>2010</td>\n",
       "      <td>1</td>\n",
       "      <td>4</td>\n",
       "      <td>Bo Peep Bo Peep</td>\n",
       "      <td>티아라 (T-ara)</td>\n",
       "      <td>Absolute First Album</td>\n",
       "    </tr>\n",
       "    <tr>\n",
       "      <th>4</th>\n",
       "      <td>2010</td>\n",
       "      <td>1</td>\n",
       "      <td>5</td>\n",
       "      <td>술 한잔 해요</td>\n",
       "      <td>지아 (Zia)</td>\n",
       "      <td>Atelier</td>\n",
       "    </tr>\n",
       "    <tr>\n",
       "      <th>...</th>\n",
       "      <td>...</td>\n",
       "      <td>...</td>\n",
       "      <td>...</td>\n",
       "      <td>...</td>\n",
       "      <td>...</td>\n",
       "      <td>...</td>\n",
       "    </tr>\n",
       "    <tr>\n",
       "      <th>66695</th>\n",
       "      <td>2023</td>\n",
       "      <td>44</td>\n",
       "      <td>196</td>\n",
       "      <td>BETELGEUSE</td>\n",
       "      <td>Yuuri</td>\n",
       "      <td>BETELGEUSE</td>\n",
       "    </tr>\n",
       "    <tr>\n",
       "      <th>66696</th>\n",
       "      <td>2023</td>\n",
       "      <td>44</td>\n",
       "      <td>197</td>\n",
       "      <td>Vancouver</td>\n",
       "      <td>BIG Naughty (서동현)</td>\n",
       "      <td>Lovey Dovey</td>\n",
       "    </tr>\n",
       "    <tr>\n",
       "      <th>66697</th>\n",
       "      <td>2023</td>\n",
       "      <td>44</td>\n",
       "      <td>198</td>\n",
       "      <td>Bye bye my blue</td>\n",
       "      <td>백예린</td>\n",
       "      <td>Bye bye my blue</td>\n",
       "    </tr>\n",
       "    <tr>\n",
       "      <th>66698</th>\n",
       "      <td>2023</td>\n",
       "      <td>44</td>\n",
       "      <td>199</td>\n",
       "      <td>사랑이라 믿었던 것들은 (Feat. 이수현)</td>\n",
       "      <td>BIG Naughty (서동현)</td>\n",
       "      <td>호프리스 로맨틱</td>\n",
       "    </tr>\n",
       "    <tr>\n",
       "      <th>66699</th>\n",
       "      <td>2023</td>\n",
       "      <td>44</td>\n",
       "      <td>200</td>\n",
       "      <td>그때 그 순간 그대로 (그그그)</td>\n",
       "      <td>WSG워너비 (가야G)</td>\n",
       "      <td>WSG워너비 1집</td>\n",
       "    </tr>\n",
       "  </tbody>\n",
       "</table>\n",
       "<p>66600 rows × 6 columns</p>\n",
       "</div>"
      ],
      "text/plain": [
       "       year  time  rank                song_title             artist  \\\n",
       "0      2010     1     1              우리 사랑하게 됐어요.             가인, 조권   \n",
       "1      2010     1     2     처음처럼 그때처럼 (Feat. 강민경)                이승기   \n",
       "2      2010     1     3                      그대라서                 거미   \n",
       "3      2010     1     4           Bo Peep Bo Peep        티아라 (T-ara)   \n",
       "4      2010     1     5                   술 한잔 해요           지아 (Zia)   \n",
       "...     ...   ...   ...                       ...                ...   \n",
       "66695  2023    44   196                BETELGEUSE              Yuuri   \n",
       "66696  2023    44   197                 Vancouver  BIG Naughty (서동현)   \n",
       "66697  2023    44   198           Bye bye my blue                백예린   \n",
       "66698  2023    44   199  사랑이라 믿었던 것들은 (Feat. 이수현)  BIG Naughty (서동현)   \n",
       "66699  2023    44   200         그때 그 순간 그대로 (그그그)       WSG워너비 (가야G)   \n",
       "\n",
       "                      album  \n",
       "0               우리 사랑하게 됐어요  \n",
       "1        Shadow (Repackage)  \n",
       "2        크리스마스에 눈이 올까요? OST  \n",
       "3      Absolute First Album  \n",
       "4                   Atelier  \n",
       "...                     ...  \n",
       "66695            BETELGEUSE  \n",
       "66696           Lovey Dovey  \n",
       "66697       Bye bye my blue  \n",
       "66698              호프리스 로맨틱  \n",
       "66699             WSG워너비 1집  \n",
       "\n",
       "[66600 rows x 6 columns]"
      ]
     },
     "execution_count": 12,
     "metadata": {},
     "output_type": "execute_result"
    }
   ],
   "source": [
    "kpop_raw_df"
   ]
  },
  {
   "cell_type": "markdown",
   "id": "aba922bc",
   "metadata": {},
   "source": [
    "<h3 style='text-align:center'> Data Analysis and Visualization</h3>"
   ]
  },
  {
   "cell_type": "markdown",
   "id": "65e317e0",
   "metadata": {},
   "source": [
    "<h4 style='text-align:center'>1. Which artists had the most songs on the Melon 200 chart from 2010 till 2013?</h4>"
   ]
  },
  {
   "cell_type": "code",
   "execution_count": 13,
   "id": "eabce150",
   "metadata": {},
   "outputs": [],
   "source": [
    "nums = kpop_raw_df.groupby('artist')['song_title'].nunique()"
   ]
  },
  {
   "cell_type": "code",
   "execution_count": 14,
   "id": "4d0c07fe",
   "metadata": {},
   "outputs": [
    {
     "name": "stdout",
     "output_type": "stream",
     "text": [
      "artist\n",
      "EXO                 106\n",
      "방탄소년단               101\n",
      "아이유 (IU)             83\n",
      "세븐틴                  73\n",
      "태연 (TAEYEON)         70\n",
      "레드벨벳(Red Velvet)     68\n",
      "샤이니 (SHINee)         60\n",
      "소녀시대                 56\n",
      "비투비 (BTOB)           56\n",
      "NCT DREAM            52\n",
      "Name: song_title, dtype: int64\n"
     ]
    }
   ],
   "source": [
    "no_songs= nums.sort_values(ascending=False).head(10)\n",
    "print(no_songs)"
   ]
  },
  {
   "cell_type": "code",
   "execution_count": 15,
   "id": "d43b8994",
   "metadata": {},
   "outputs": [
    {
     "data": {
      "image/png": "[encoded data removed]",
      "text/plain": [
       "<Figure size 640x480 with 1 Axes>"
      ]
     },
     "metadata": {},
     "output_type": "display_data"
    }
   ],
   "source": [
    "color = ['pink','lightblue', '#7FFFD4', '#FFE4C4', '#cf6275', '#bf77f6','yellow','#a8ff04','orange','#ed0dd9']\n",
    "fig, ax = plt.subplots()\n",
    "ax.bar(no_songs.index, no_songs, color= color)\n",
    "ax.set_title('Artist With Most Songs Charting on the Melon 200 Chart')\n",
    "ax.set_ylabel('Number of Songs')\n",
    "y =ax.set_xlabel('Artist')\n",
    "g =plt.xticks(rotation=75)"
   ]
  },
  {
   "cell_type": "markdown",
   "id": "f5f579dc",
   "metadata": {},
   "source": [
    "<h4 style='text-align:center'>2. Which artist has the most number 1 songs on Melon chart? </h4>"
   ]
  },
  {
   "cell_type": "code",
   "execution_count": 16,
   "id": "df3f3397",
   "metadata": {},
   "outputs": [],
   "source": [
    "most_num1 = kpop_raw_df.loc[kpop_raw_df['rank'] == 1]"
   ]
  },
  {
   "cell_type": "code",
   "execution_count": 17,
   "id": "e18c5965",
   "metadata": {},
   "outputs": [
    {
     "name": "stdout",
     "output_type": "stream",
     "text": [
      "artist\n",
      "아이유 (IU)        16\n",
      "BIGBANG (빅뱅)     8\n",
      "TWICE            6\n",
      "소녀시대             6\n",
      "임영웅              6\n",
      "IVE (아이브)        5\n",
      "방탄소년단            5\n",
      "지코 (ZICO)        5\n",
      "2NE1 (투애니 원)     5\n",
      "다비치              4\n",
      "Name: song_title, dtype: int64\n"
     ]
    }
   ],
   "source": [
    "mostnum1 = most_num1.groupby('artist')['song_title'].nunique().sort_values(ascending=False).head(10)\n",
    "print(mostnum1)"
   ]
  },
  {
   "cell_type": "code",
   "execution_count": 18,
   "id": "3655dc9e",
   "metadata": {},
   "outputs": [
    {
     "data": {
      "image/png": "[encoded data removed]",
      "text/plain": [
       "<Figure size 640x480 with 1 Axes>"
      ]
     },
     "metadata": {},
     "output_type": "display_data"
    }
   ],
   "source": [
    "color = ['pink','lightblue', '#7FFFD4', '#FFE4C4', '#cf6275', '#bf77f6','yellow','#a8ff04','orange','#ed0dd9']\n",
    "fig, ax = plt.subplots()\n",
    "ax.barh(mostnum1.index, mostnum1, color= color)\n",
    "ax.invert_yaxis()\n",
    "ax.set_title('Artist With Most Number 1 Song')\n",
    "ax.set_ylabel('Artists')\n",
    "y =ax.set_xlabel('Number of songs')\n"
   ]
  },
  {
   "cell_type": "markdown",
   "id": "4c69cc48",
   "metadata": {},
   "source": [
    "IU has the most number 1 songs on the Melon chart. IU is also considered one of the biggest musicians in South Kore by the general public."
   ]
  },
  {
   "cell_type": "markdown",
   "id": "05ac712f",
   "metadata": {},
   "source": [
    "<h4 style='text-align:center'>3. Which Korean song spent the longest time at the number 1 position? </h4>"
   ]
  },
  {
   "cell_type": "code",
   "execution_count": 19,
   "id": "a3cecd17",
   "metadata": {},
   "outputs": [],
   "source": [
    "num1_rankings = kpop_raw_df.loc[kpop_raw_df['rank'] == 1] #Looking for all songs that ranked number 1"
   ]
  },
  {
   "cell_type": "code",
   "execution_count": 20,
   "id": "ebb01211",
   "metadata": {},
   "outputs": [
    {
     "name": "stdout",
     "output_type": "stream",
     "text": [
      "song_title\n",
      "Ditto                                     12\n",
      "Dynamite                                  11\n",
      "Super Shy                                  8\n",
      "VVS (Feat. JUSTHIS) (Prod. GroovyRoom)     7\n",
      "아무노래                                       7\n",
      "Stay                                       6\n",
      "사건의 지평선                                    6\n",
      "Celebrity                                  6\n",
      "Love Lee                                   6\n",
      "I AM                                       6\n",
      "dtype: int64\n"
     ]
    }
   ],
   "source": [
    "all_time_num1 = num1_rankings.groupby('song_title').size().sort_values(ascending=False).head(10) \n",
    "print(all_time_num1)"
   ]
  },
  {
   "cell_type": "code",
   "execution_count": 21,
   "id": "701997ff",
   "metadata": {},
   "outputs": [
    {
     "data": {
      "image/png": "[encoded data removed]",
      "text/plain": [
       "<Figure size 640x480 with 1 Axes>"
      ]
     },
     "metadata": {},
     "output_type": "display_data"
    }
   ],
   "source": [
    "#ploting a horizontal bar graph\n",
    "color = ['pink','lightblue', '#7FFFD4', '#FFE4C4', '#cf6275', '#bf77f6','yellow','#a8ff04','orange','#ed0dd9']\n",
    "fig, ax = plt.subplots()\n",
    "ax.barh(all_time_num1.index, all_time_num1, color= color)\n",
    "ax.invert_yaxis()\n",
    "ax.set_title('Longest Charting number 1 Song')\n",
    "ax.set_ylabel('Song_Titles')\n",
    "y =ax.set_xlabel('Weeks')\n"
   ]
  },
  {
   "cell_type": "markdown",
   "id": "d5461274",
   "metadata": {},
   "source": [
    "From the graph we can see that Ditto by New Jeans is the longest charting number 1 song. It spent 12 weeks at number 1 on the Melon Chart."
   ]
  },
  {
   "cell_type": "markdown",
   "id": "4aada904",
   "metadata": {},
   "source": [
    "<h4 style='text-align:center'> 4. Which song charted the longest in the Melon 200?</h4>"
   ]
  },
  {
   "cell_type": "code",
   "execution_count": 22,
   "id": "fad6ccc5",
   "metadata": {},
   "outputs": [],
   "source": [
    "no_occurance_df = kpop_raw_df.groupby(['song_title']).size() #Grouping song titles to see how many times each song appears\n"
   ]
  },
  {
   "cell_type": "code",
   "execution_count": 23,
   "id": "9f7993cc",
   "metadata": {},
   "outputs": [
    {
     "name": "stdout",
     "output_type": "stream",
     "text": [
      "song_title\n",
      "봄날                                       248\n",
      "밤편지                                      243\n",
      "Shape of You                             230\n",
      "Love Yourself                            225\n",
      "모든 날, 모든 순간 (Every day, Every Moment)    201\n",
      "2002                                     200\n",
      "어떻게 이별까지 사랑하겠어, 널 사랑하는 거지                200\n",
      "주저하는 연인들을 위해                             199\n",
      "Bad                                      187\n",
      "이제 나만 믿어요                                187\n",
      "dtype: int64\n"
     ]
    }
   ],
   "source": [
    "no_occurance = no_occurance_df.sort_values(ascending= False).head(10)\n",
    "print(no_occurance)"
   ]
  },
  {
   "cell_type": "code",
   "execution_count": 24,
   "id": "b2150c72",
   "metadata": {},
   "outputs": [
    {
     "data": {
      "image/png": "[encoded data removed]",
      "text/plain": [
       "<Figure size 1000x600 with 1 Axes>"
      ]
     },
     "metadata": {},
     "output_type": "display_data"
    }
   ],
   "source": [
    "plt.figure(figsize=(10,6))\n",
    "plt.xticks(rotation=75)\n",
    "bars = sb.barplot(x= no_occurance.index, y= no_occurance)\n",
    "BAR = bars.set(xlabel = 'Song_Title', ylabel ='Weeks', title ='Longest Charting Song')"
   ]
  },
  {
   "cell_type": "markdown",
   "id": "b1ad08b9",
   "metadata": {},
   "source": [
    "The  Top 10 songs with the most weeks in the top 200 Melon Chart are:\n",
    "\n",
    "          \n",
    "    1. 방탄소년단 (BTS)          봄날(Spring Day)                              248\n",
    "    2. 아이유 (IU)              밤편지(Through The Night)                      243\n",
    "    3. Ed Sheeran             Shape of You                                 230\n",
    "    4. Justin Bieber          Love Yourself                                225\n",
    "    5. 폴킴(Paul Kim)          모든 날, 모든 순간 (Every day, Every Moment)     201\n",
    "    6. Anne-Marie             2002                                         200\n",
    "    7. AKMU (악뮤)             어떻게 이별까지 사랑하겠어, 널 사랑하는 거지(How can I) 200\n",
    "    8. 잔나비 (Janabi)          주저하는 연인들을 위해 (For lovers who hesitate)  199\n",
    "    9. 임영웅 (Lee Youngwoong)  이제 나만 믿어요 (Trust in Me)                   187\n",
    "    10. 아이유 (IU)              Blueming                                    184"
   ]
  },
  {
   "cell_type": "markdown",
   "id": "34462b3e",
   "metadata": {},
   "source": [
    "<h4 style='text-align:center'>5. Which artists are the new leaders of kpop in South Korea?</h4>"
   ]
  },
  {
   "cell_type": "markdown",
   "id": "96c3e858",
   "metadata": {},
   "source": [
    "For this question we are going to focus on the 2023 charts and look at which artists dominated the Melon charts in 2023. We will look at number of unique entries in the chart,highest ranking on the chart and total number of times a song of theirs appeared on the chart in 2023. Once we have all three information we will then calculate a percentage and pick the possible Top 3 New leaders of Kpop in South Korea.\n",
    "\n",
    "We use the term possible because some big groups like BTS are currently on hiatus due to compulsory military service so they were not able to release new music and promote in 2023. This analysis will focus on who led 2023 and their potential to continue their momentum in 2024."
   ]
  },
  {
   "cell_type": "raw",
   "id": "f0ec2adb",
   "metadata": {},
   "source": []
  },
  {
   "cell_type": "code",
   "execution_count": 34,
   "id": "4b2b99b5",
   "metadata": {},
   "outputs": [],
   "source": [
    "leaders_2023 = kpop_raw_df.loc[kpop_raw_df['year'] == 2023]"
   ]
  },
  {
   "cell_type": "code",
   "execution_count": 35,
   "id": "cb3d1d0d",
   "metadata": {},
   "outputs": [
    {
     "data": {
      "text/html": [
       "<div>\n",
       "<style scoped>\n",
       "    .dataframe tbody tr th:only-of-type {\n",
       "        vertical-align: middle;\n",
       "    }\n",
       "\n",
       "    .dataframe tbody tr th {\n",
       "        vertical-align: top;\n",
       "    }\n",
       "\n",
       "    .dataframe thead th {\n",
       "        text-align: right;\n",
       "    }\n",
       "</style>\n",
       "<table border=\"1\" class=\"dataframe\">\n",
       "  <thead>\n",
       "    <tr style=\"text-align: right;\">\n",
       "      <th></th>\n",
       "      <th>year</th>\n",
       "      <th>time</th>\n",
       "      <th>rank</th>\n",
       "      <th>song_title</th>\n",
       "      <th>artist</th>\n",
       "      <th>album</th>\n",
       "    </tr>\n",
       "  </thead>\n",
       "  <tbody>\n",
       "    <tr>\n",
       "      <th>57900</th>\n",
       "      <td>2023</td>\n",
       "      <td>1</td>\n",
       "      <td>1</td>\n",
       "      <td>Ditto</td>\n",
       "      <td>NewJeans</td>\n",
       "      <td>`OMG`</td>\n",
       "    </tr>\n",
       "    <tr>\n",
       "      <th>57901</th>\n",
       "      <td>2023</td>\n",
       "      <td>1</td>\n",
       "      <td>2</td>\n",
       "      <td>사건의 지평선</td>\n",
       "      <td>윤하</td>\n",
       "      <td>6th Album Repackage `END THEORY : Final Edition`</td>\n",
       "    </tr>\n",
       "    <tr>\n",
       "      <th>57902</th>\n",
       "      <td>2023</td>\n",
       "      <td>1</td>\n",
       "      <td>3</td>\n",
       "      <td>OMG</td>\n",
       "      <td>NewJeans</td>\n",
       "      <td>`OMG`</td>\n",
       "    </tr>\n",
       "    <tr>\n",
       "      <th>57903</th>\n",
       "      <td>2023</td>\n",
       "      <td>1</td>\n",
       "      <td>4</td>\n",
       "      <td>Hype boy</td>\n",
       "      <td>NewJeans</td>\n",
       "      <td>1st EP `New Jeans`</td>\n",
       "    </tr>\n",
       "    <tr>\n",
       "      <th>57904</th>\n",
       "      <td>2023</td>\n",
       "      <td>1</td>\n",
       "      <td>5</td>\n",
       "      <td>NOT SORRY (Feat. pH-1) (Prod. by Slom)</td>\n",
       "      <td>이영지</td>\n",
       "      <td>쇼미더머니 11 Episode 3</td>\n",
       "    </tr>\n",
       "    <tr>\n",
       "      <th>...</th>\n",
       "      <td>...</td>\n",
       "      <td>...</td>\n",
       "      <td>...</td>\n",
       "      <td>...</td>\n",
       "      <td>...</td>\n",
       "      <td>...</td>\n",
       "    </tr>\n",
       "    <tr>\n",
       "      <th>66695</th>\n",
       "      <td>2023</td>\n",
       "      <td>44</td>\n",
       "      <td>196</td>\n",
       "      <td>BETELGEUSE</td>\n",
       "      <td>Yuuri</td>\n",
       "      <td>BETELGEUSE</td>\n",
       "    </tr>\n",
       "    <tr>\n",
       "      <th>66696</th>\n",
       "      <td>2023</td>\n",
       "      <td>44</td>\n",
       "      <td>197</td>\n",
       "      <td>Vancouver</td>\n",
       "      <td>BIG Naughty (서동현)</td>\n",
       "      <td>Lovey Dovey</td>\n",
       "    </tr>\n",
       "    <tr>\n",
       "      <th>66697</th>\n",
       "      <td>2023</td>\n",
       "      <td>44</td>\n",
       "      <td>198</td>\n",
       "      <td>Bye bye my blue</td>\n",
       "      <td>백예린</td>\n",
       "      <td>Bye bye my blue</td>\n",
       "    </tr>\n",
       "    <tr>\n",
       "      <th>66698</th>\n",
       "      <td>2023</td>\n",
       "      <td>44</td>\n",
       "      <td>199</td>\n",
       "      <td>사랑이라 믿었던 것들은 (Feat. 이수현)</td>\n",
       "      <td>BIG Naughty (서동현)</td>\n",
       "      <td>호프리스 로맨틱</td>\n",
       "    </tr>\n",
       "    <tr>\n",
       "      <th>66699</th>\n",
       "      <td>2023</td>\n",
       "      <td>44</td>\n",
       "      <td>200</td>\n",
       "      <td>그때 그 순간 그대로 (그그그)</td>\n",
       "      <td>WSG워너비 (가야G)</td>\n",
       "      <td>WSG워너비 1집</td>\n",
       "    </tr>\n",
       "  </tbody>\n",
       "</table>\n",
       "<p>8800 rows × 6 columns</p>\n",
       "</div>"
      ],
      "text/plain": [
       "       year  time  rank                              song_title  \\\n",
       "57900  2023     1     1                                   Ditto   \n",
       "57901  2023     1     2                                 사건의 지평선   \n",
       "57902  2023     1     3                                     OMG   \n",
       "57903  2023     1     4                                Hype boy   \n",
       "57904  2023     1     5  NOT SORRY (Feat. pH-1) (Prod. by Slom)   \n",
       "...     ...   ...   ...                                     ...   \n",
       "66695  2023    44   196                              BETELGEUSE   \n",
       "66696  2023    44   197                               Vancouver   \n",
       "66697  2023    44   198                         Bye bye my blue   \n",
       "66698  2023    44   199                사랑이라 믿었던 것들은 (Feat. 이수현)   \n",
       "66699  2023    44   200                       그때 그 순간 그대로 (그그그)   \n",
       "\n",
       "                  artist                                             album  \n",
       "57900           NewJeans                                             `OMG`  \n",
       "57901                 윤하  6th Album Repackage `END THEORY : Final Edition`  \n",
       "57902           NewJeans                                             `OMG`  \n",
       "57903           NewJeans                                1st EP `New Jeans`  \n",
       "57904                이영지                                쇼미더머니 11 Episode 3  \n",
       "...                  ...                                               ...  \n",
       "66695              Yuuri                                        BETELGEUSE  \n",
       "66696  BIG Naughty (서동현)                                       Lovey Dovey  \n",
       "66697                백예린                                   Bye bye my blue  \n",
       "66698  BIG Naughty (서동현)                                          호프리스 로맨틱  \n",
       "66699       WSG워너비 (가야G)                                         WSG워너비 1집  \n",
       "\n",
       "[8800 rows x 6 columns]"
      ]
     },
     "execution_count": 35,
     "metadata": {},
     "output_type": "execute_result"
    }
   ],
   "source": [
    "leaders_2023\n"
   ]
  },
  {
   "cell_type": "code",
   "execution_count": 172,
   "id": "22716df5",
   "metadata": {},
   "outputs": [],
   "source": [
    "#Artist with the most songs appearing on the 200 chart in 2023\n",
    "leaders = leaders_2023.groupby('artist')['song_title'].nunique().sort_values(ascending=False).head(10) "
   ]
  },
  {
   "cell_type": "code",
   "execution_count": 173,
   "id": "51338939",
   "metadata": {},
   "outputs": [],
   "source": [
    "#Artist with highest ranking songs in 2023\n",
    "\n",
    "num1_2023 = leaders_2023.loc[leaders_2023['rank'] ==1]\n",
    "top1= num1_2023.groupby('artist')['rank'].sum().sort_values(ascending=False)\n",
    "top1_percentage=round(top1/len(num1_2023) * 100)\n",
    "#New Jeans held the Number 1 spot for 19 weeks in 2023\n",
    "#2023 data is not complete. only 44 weeks were included in this data set"
   ]
  },
  {
   "cell_type": "code",
   "execution_count": 174,
   "id": "4613a103",
   "metadata": {},
   "outputs": [
    {
     "data": {
      "text/plain": [
       "<matplotlib.legend.Legend at 0x137f07cd0>"
      ]
     },
     "execution_count": 174,
     "metadata": {},
     "output_type": "execute_result"
    },
    {
     "data": {
      "image/png": "[encoded data removed]",
      "text/plain": [
       "<Figure size 1000x700 with 1 Axes>"
      ]
     },
     "metadata": {},
     "output_type": "display_data"
    }
   ],
   "source": [
    "fig = plt.figure(figsize=(10, 7), facecolor='White')\n",
    "plt.pie(top1_percentage,colors =color, labels=top1_percentage.index, autopct='%.0f%%', radius=1.1)\n",
    "plt.title('Artists With Most Weeks at Number 1',fontsize=20)\n",
    "plt.legend(labels=top1_percentage.index,title='Artists', bbox_to_anchor=(1.05,1))"
   ]
  },
  {
   "cell_type": "code",
   "execution_count": 175,
   "id": "be59359a",
   "metadata": {},
   "outputs": [],
   "source": [
    "top_artists = pd.merge(leaders_2023,top1, on='artist') #Merging the 2 new tables"
   ]
  },
  {
   "cell_type": "code",
   "execution_count": 176,
   "id": "748e8509",
   "metadata": {},
   "outputs": [
    {
     "data": {
      "text/html": [
       "<div>\n",
       "<style scoped>\n",
       "    .dataframe tbody tr th:only-of-type {\n",
       "        vertical-align: middle;\n",
       "    }\n",
       "\n",
       "    .dataframe tbody tr th {\n",
       "        vertical-align: top;\n",
       "    }\n",
       "\n",
       "    .dataframe thead th {\n",
       "        text-align: right;\n",
       "    }\n",
       "</style>\n",
       "<table border=\"1\" class=\"dataframe\">\n",
       "  <thead>\n",
       "    <tr style=\"text-align: right;\">\n",
       "      <th></th>\n",
       "      <th>year</th>\n",
       "      <th>time</th>\n",
       "      <th>rank_x</th>\n",
       "      <th>song_title</th>\n",
       "      <th>artist</th>\n",
       "      <th>album</th>\n",
       "      <th>rank_y</th>\n",
       "    </tr>\n",
       "  </thead>\n",
       "  <tbody>\n",
       "    <tr>\n",
       "      <th>0</th>\n",
       "      <td>2023</td>\n",
       "      <td>1</td>\n",
       "      <td>1</td>\n",
       "      <td>Ditto</td>\n",
       "      <td>NewJeans</td>\n",
       "      <td>`OMG`</td>\n",
       "      <td>19</td>\n",
       "    </tr>\n",
       "    <tr>\n",
       "      <th>1</th>\n",
       "      <td>2023</td>\n",
       "      <td>1</td>\n",
       "      <td>3</td>\n",
       "      <td>OMG</td>\n",
       "      <td>NewJeans</td>\n",
       "      <td>`OMG`</td>\n",
       "      <td>19</td>\n",
       "    </tr>\n",
       "    <tr>\n",
       "      <th>2</th>\n",
       "      <td>2023</td>\n",
       "      <td>1</td>\n",
       "      <td>4</td>\n",
       "      <td>Hype boy</td>\n",
       "      <td>NewJeans</td>\n",
       "      <td>1st EP `New Jeans`</td>\n",
       "      <td>19</td>\n",
       "    </tr>\n",
       "    <tr>\n",
       "      <th>3</th>\n",
       "      <td>2023</td>\n",
       "      <td>1</td>\n",
       "      <td>9</td>\n",
       "      <td>Attention</td>\n",
       "      <td>NewJeans</td>\n",
       "      <td>1st EP `New Jeans`</td>\n",
       "      <td>19</td>\n",
       "    </tr>\n",
       "    <tr>\n",
       "      <th>4</th>\n",
       "      <td>2023</td>\n",
       "      <td>1</td>\n",
       "      <td>16</td>\n",
       "      <td>Cookie</td>\n",
       "      <td>NewJeans</td>\n",
       "      <td>1st EP `New Jeans`</td>\n",
       "      <td>19</td>\n",
       "    </tr>\n",
       "    <tr>\n",
       "      <th>...</th>\n",
       "      <td>...</td>\n",
       "      <td>...</td>\n",
       "      <td>...</td>\n",
       "      <td>...</td>\n",
       "      <td>...</td>\n",
       "      <td>...</td>\n",
       "      <td>...</td>\n",
       "    </tr>\n",
       "    <tr>\n",
       "      <th>1553</th>\n",
       "      <td>2023</td>\n",
       "      <td>44</td>\n",
       "      <td>130</td>\n",
       "      <td>Diamond Days</td>\n",
       "      <td>세븐틴</td>\n",
       "      <td>11th Mini Album `SEVENTEENTH HEAVEN`</td>\n",
       "      <td>1</td>\n",
       "    </tr>\n",
       "    <tr>\n",
       "      <th>1554</th>\n",
       "      <td>2023</td>\n",
       "      <td>44</td>\n",
       "      <td>132</td>\n",
       "      <td>Monster</td>\n",
       "      <td>세븐틴</td>\n",
       "      <td>11th Mini Album `SEVENTEENTH HEAVEN`</td>\n",
       "      <td>1</td>\n",
       "    </tr>\n",
       "    <tr>\n",
       "      <th>1555</th>\n",
       "      <td>2023</td>\n",
       "      <td>44</td>\n",
       "      <td>144</td>\n",
       "      <td>Back 2 Back</td>\n",
       "      <td>세븐틴</td>\n",
       "      <td>11th Mini Album `SEVENTEENTH HEAVEN`</td>\n",
       "      <td>1</td>\n",
       "    </tr>\n",
       "    <tr>\n",
       "      <th>1556</th>\n",
       "      <td>2023</td>\n",
       "      <td>44</td>\n",
       "      <td>153</td>\n",
       "      <td>하품</td>\n",
       "      <td>세븐틴</td>\n",
       "      <td>11th Mini Album `SEVENTEENTH HEAVEN`</td>\n",
       "      <td>1</td>\n",
       "    </tr>\n",
       "    <tr>\n",
       "      <th>1557</th>\n",
       "      <td>2023</td>\n",
       "      <td>44</td>\n",
       "      <td>161</td>\n",
       "      <td>Headliner</td>\n",
       "      <td>세븐틴</td>\n",
       "      <td>11th Mini Album `SEVENTEENTH HEAVEN`</td>\n",
       "      <td>1</td>\n",
       "    </tr>\n",
       "  </tbody>\n",
       "</table>\n",
       "<p>1558 rows × 7 columns</p>\n",
       "</div>"
      ],
      "text/plain": [
       "      year  time  rank_x    song_title    artist  \\\n",
       "0     2023     1       1         Ditto  NewJeans   \n",
       "1     2023     1       3           OMG  NewJeans   \n",
       "2     2023     1       4      Hype boy  NewJeans   \n",
       "3     2023     1       9     Attention  NewJeans   \n",
       "4     2023     1      16        Cookie  NewJeans   \n",
       "...    ...   ...     ...           ...       ...   \n",
       "1553  2023    44     130  Diamond Days       세븐틴   \n",
       "1554  2023    44     132       Monster       세븐틴   \n",
       "1555  2023    44     144   Back 2 Back       세븐틴   \n",
       "1556  2023    44     153            하품       세븐틴   \n",
       "1557  2023    44     161     Headliner       세븐틴   \n",
       "\n",
       "                                     album  rank_y  \n",
       "0                                    `OMG`      19  \n",
       "1                                    `OMG`      19  \n",
       "2                       1st EP `New Jeans`      19  \n",
       "3                       1st EP `New Jeans`      19  \n",
       "4                       1st EP `New Jeans`      19  \n",
       "...                                    ...     ...  \n",
       "1553  11th Mini Album `SEVENTEENTH HEAVEN`       1  \n",
       "1554  11th Mini Album `SEVENTEENTH HEAVEN`       1  \n",
       "1555  11th Mini Album `SEVENTEENTH HEAVEN`       1  \n",
       "1556  11th Mini Album `SEVENTEENTH HEAVEN`       1  \n",
       "1557  11th Mini Album `SEVENTEENTH HEAVEN`       1  \n",
       "\n",
       "[1558 rows x 7 columns]"
      ]
     },
     "execution_count": 176,
     "metadata": {},
     "output_type": "execute_result"
    }
   ],
   "source": [
    "top_artists"
   ]
  },
  {
   "cell_type": "code",
   "execution_count": 238,
   "id": "d3b1c070",
   "metadata": {},
   "outputs": [],
   "source": [
    "total_appearance=top_artists.groupby('artist').size().sort_values(ascending=False).head(10).to_frame('total_appearance')\n"
   ]
  },
  {
   "cell_type": "code",
   "execution_count": 239,
   "id": "ff7ab87d",
   "metadata": {},
   "outputs": [
    {
     "data": {
      "text/html": [
       "<div>\n",
       "<style scoped>\n",
       "    .dataframe tbody tr th:only-of-type {\n",
       "        vertical-align: middle;\n",
       "    }\n",
       "\n",
       "    .dataframe tbody tr th {\n",
       "        vertical-align: top;\n",
       "    }\n",
       "\n",
       "    .dataframe thead th {\n",
       "        text-align: right;\n",
       "    }\n",
       "</style>\n",
       "<table border=\"1\" class=\"dataframe\">\n",
       "  <thead>\n",
       "    <tr style=\"text-align: right;\">\n",
       "      <th></th>\n",
       "      <th>total_appearance</th>\n",
       "    </tr>\n",
       "    <tr>\n",
       "      <th>artist</th>\n",
       "      <th></th>\n",
       "    </tr>\n",
       "  </thead>\n",
       "  <tbody>\n",
       "    <tr>\n",
       "      <th>임영웅</th>\n",
       "      <td>632</td>\n",
       "    </tr>\n",
       "    <tr>\n",
       "      <th>NewJeans</th>\n",
       "      <td>341</td>\n",
       "    </tr>\n",
       "    <tr>\n",
       "      <th>IVE (아이브)</th>\n",
       "      <td>243</td>\n",
       "    </tr>\n",
       "    <tr>\n",
       "      <th>(여자)아이들</th>\n",
       "      <td>145</td>\n",
       "    </tr>\n",
       "    <tr>\n",
       "      <th>AKMU (악뮤)</th>\n",
       "      <td>96</td>\n",
       "    </tr>\n",
       "    <tr>\n",
       "      <th>세븐틴</th>\n",
       "      <td>80</td>\n",
       "    </tr>\n",
       "    <tr>\n",
       "      <th>NCT 127</th>\n",
       "      <td>21</td>\n",
       "    </tr>\n",
       "  </tbody>\n",
       "</table>\n",
       "</div>"
      ],
      "text/plain": [
       "           total_appearance\n",
       "artist                     \n",
       "임영웅                     632\n",
       "NewJeans                341\n",
       "IVE (아이브)               243\n",
       "(여자)아이들                 145\n",
       "AKMU (악뮤)                96\n",
       "세븐틴                      80\n",
       "NCT 127                  21"
      ]
     },
     "execution_count": 239,
     "metadata": {},
     "output_type": "execute_result"
    }
   ],
   "source": [
    "total_appearance"
   ]
  },
  {
   "cell_type": "markdown",
   "id": "6495f116",
   "metadata": {},
   "source": [
    "  <h4> Dividing the amount of unique songs each artist that had a number 1 song had by the total number of weeks of data available for Melon 200 chart 2023</h4> "
   ]
  },
  {
   "cell_type": "code",
   "execution_count": 241,
   "id": "e1b3003d",
   "metadata": {},
   "outputs": [],
   "source": [
    "total_pos_apperance = (leaders * 44).to_frame('total_possible_appearance') #44 is total number of weeks in 2023 that was available for analysis\n",
    "#Total Number of possible appearance on the chart"
   ]
  },
  {
   "cell_type": "code",
   "execution_count": 242,
   "id": "82c66368",
   "metadata": {},
   "outputs": [
    {
     "data": {
      "text/html": [
       "<div>\n",
       "<style scoped>\n",
       "    .dataframe tbody tr th:only-of-type {\n",
       "        vertical-align: middle;\n",
       "    }\n",
       "\n",
       "    .dataframe tbody tr th {\n",
       "        vertical-align: top;\n",
       "    }\n",
       "\n",
       "    .dataframe thead th {\n",
       "        text-align: right;\n",
       "    }\n",
       "</style>\n",
       "<table border=\"1\" class=\"dataframe\">\n",
       "  <thead>\n",
       "    <tr style=\"text-align: right;\">\n",
       "      <th></th>\n",
       "      <th>total_possible_appearance</th>\n",
       "    </tr>\n",
       "    <tr>\n",
       "      <th>artist</th>\n",
       "      <th></th>\n",
       "    </tr>\n",
       "  </thead>\n",
       "  <tbody>\n",
       "    <tr>\n",
       "      <th>IVE (아이브)</th>\n",
       "      <td>792</td>\n",
       "    </tr>\n",
       "    <tr>\n",
       "      <th>임영웅</th>\n",
       "      <td>748</td>\n",
       "    </tr>\n",
       "    <tr>\n",
       "      <th>NCT DREAM</th>\n",
       "      <td>748</td>\n",
       "    </tr>\n",
       "    <tr>\n",
       "      <th>LE SSERAFIM (르세라핌)</th>\n",
       "      <td>660</td>\n",
       "    </tr>\n",
       "    <tr>\n",
       "      <th>세븐틴</th>\n",
       "      <td>660</td>\n",
       "    </tr>\n",
       "    <tr>\n",
       "      <th>NewJeans</th>\n",
       "      <td>616</td>\n",
       "    </tr>\n",
       "    <tr>\n",
       "      <th>정국</th>\n",
       "      <td>572</td>\n",
       "    </tr>\n",
       "    <tr>\n",
       "      <th>투모로우바이투게더</th>\n",
       "      <td>484</td>\n",
       "    </tr>\n",
       "    <tr>\n",
       "      <th>아이유 (IU)</th>\n",
       "      <td>484</td>\n",
       "    </tr>\n",
       "    <tr>\n",
       "      <th>aespa</th>\n",
       "      <td>484</td>\n",
       "    </tr>\n",
       "  </tbody>\n",
       "</table>\n",
       "</div>"
      ],
      "text/plain": [
       "                    total_possible_appearance\n",
       "artist                                       \n",
       "IVE (아이브)                                 792\n",
       "임영웅                                       748\n",
       "NCT DREAM                                 748\n",
       "LE SSERAFIM (르세라핌)                        660\n",
       "세븐틴                                       660\n",
       "NewJeans                                  616\n",
       "정국                                        572\n",
       "투모로우바이투게더                                 484\n",
       "아이유 (IU)                                  484\n",
       "aespa                                     484"
      ]
     },
     "execution_count": 242,
     "metadata": {},
     "output_type": "execute_result"
    }
   ],
   "source": [
    "total_pos_apperance"
   ]
  },
  {
   "cell_type": "code",
   "execution_count": 264,
   "id": "7884c853",
   "metadata": {},
   "outputs": [
    {
     "data": {
      "text/html": [
       "<div>\n",
       "<style scoped>\n",
       "    .dataframe tbody tr th:only-of-type {\n",
       "        vertical-align: middle;\n",
       "    }\n",
       "\n",
       "    .dataframe tbody tr th {\n",
       "        vertical-align: top;\n",
       "    }\n",
       "\n",
       "    .dataframe thead th {\n",
       "        text-align: right;\n",
       "    }\n",
       "</style>\n",
       "<table border=\"1\" class=\"dataframe\">\n",
       "  <thead>\n",
       "    <tr style=\"text-align: right;\">\n",
       "      <th></th>\n",
       "      <th>total_appearance</th>\n",
       "      <th>total_possible_appearance</th>\n",
       "    </tr>\n",
       "    <tr>\n",
       "      <th>artist</th>\n",
       "      <th></th>\n",
       "      <th></th>\n",
       "    </tr>\n",
       "  </thead>\n",
       "  <tbody>\n",
       "    <tr>\n",
       "      <th>임영웅</th>\n",
       "      <td>632</td>\n",
       "      <td>748</td>\n",
       "    </tr>\n",
       "    <tr>\n",
       "      <th>NewJeans</th>\n",
       "      <td>341</td>\n",
       "      <td>616</td>\n",
       "    </tr>\n",
       "    <tr>\n",
       "      <th>IVE (아이브)</th>\n",
       "      <td>243</td>\n",
       "      <td>792</td>\n",
       "    </tr>\n",
       "    <tr>\n",
       "      <th>세븐틴</th>\n",
       "      <td>80</td>\n",
       "      <td>660</td>\n",
       "    </tr>\n",
       "  </tbody>\n",
       "</table>\n",
       "</div>"
      ],
      "text/plain": [
       "           total_appearance  total_possible_appearance\n",
       "artist                                                \n",
       "임영웅                     632                        748\n",
       "NewJeans                341                        616\n",
       "IVE (아이브)               243                        792\n",
       "세븐틴                      80                        660"
      ]
     },
     "execution_count": 264,
     "metadata": {},
     "output_type": "execute_result"
    }
   ],
   "source": [
    "appearance = pd.merge(total_appearance,total_pos_apperance,on='artist')\n",
    "appearance"
   ]
  },
  {
   "cell_type": "code",
   "execution_count": 286,
   "id": "adec8bca",
   "metadata": {},
   "outputs": [
    {
     "data": {
      "image/png": "[encoded data removed]",
      "text/plain": [
       "<Figure size 640x480 with 1 Axes>"
      ]
     },
     "metadata": {},
     "output_type": "display_data"
    }
   ],
   "source": [
    "plt.plot(appearance)\n",
    "plt.ylabel('Appearances')\n",
    "plt.title('Top Leaders for 2024')\n",
    "y=plt.legend(['Appearances','Possible_Max_Appearance'])"
   ]
  },
  {
   "cell_type": "markdown",
   "id": "9d5488e2",
   "metadata": {},
   "source": [
    "From the Graph we can see the 4 possible leaders of 2024 with Lim Young Woong leading the batch. Based on research done these 4 artists are considered the top artists leading charts in South Korea right now. During Award shows such as the Melon Music Awards these 4 artists won multiple awards and are seen to continue to grow in 2024 while the biggest artist in South Korea undergo their mandatory military service."
   ]
  },
  {
   "cell_type": "markdown",
   "id": "fad8e418",
   "metadata": {},
   "source": [
    "<h3 style='text-align:center'>Conclusion</h3>"
   ]
  },
  {
   "cell_type": "markdown",
   "id": "fe3eb439",
   "metadata": {},
   "source": [
    "We've drawn many conclusions from the analysis, heres a brief summary:\n",
    "\n",
    "<li>Artists such as Lim Young Woong, New Jeans, Ive and Seventeen will possibly continue to lead on the music charts in South Korea.\n",
    "\n",
    "<li>IU leads when it comes to artists with the most number 1 songs in South Korea, while BTS continue to lead as the artist with the longest charting number song.\n",
    "\n",
    "<li>New Jeans and BTS battled it out for longest running Number 1 song with New Jeans coming out on top and BTS are close second.\n",
    "\n",
    "<li>From all these analysis we can infer that IU and BTS led the way for a long time and now Lim Young Woong and New Jeans are the new leaders of kpop"
   ]
  },
  {
   "cell_type": "code",
   "execution_count": null,
   "id": "64eb2c89",
   "metadata": {},
   "outputs": [],
   "source": []
  }
 ],
 "metadata": {
  "kernelspec": {
   "display_name": "Python 3 (ipykernel)",
   "language": "python",
   "name": "python3"
  },
  "language_info": {
   "codemirror_mode": {
    "name": "ipython",
    "version": 3
   },
   "file_extension": ".py",
   "mimetype": "text/x-python",
   "name": "python",
   "nbconvert_exporter": "python",
   "pygments_lexer": "ipython3",
   "version": "3.11.5"
  }
 },
 "nbformat": 4,
 "nbformat_minor": 5
}
